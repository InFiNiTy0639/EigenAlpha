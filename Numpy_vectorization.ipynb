{
 "cells": [
  {
   "cell_type": "markdown",
   "id": "8b6ad25f-75e2-4b19-ab22-3b6ffcae383b",
   "metadata": {},
   "source": [
    "### Python , Numpy, and Vectorization"
   ]
  },
  {
   "cell_type": "code",
   "execution_count": 3,
   "id": "d940aaeb-7ef4-44f9-b534-8768fbab510a",
   "metadata": {},
   "outputs": [],
   "source": [
    "import numpy as np\n",
    "import time"
   ]
  },
  {
   "cell_type": "markdown",
   "id": "2e2c3576-1fcc-4d8b-ba3c-ce78e85e3dd1",
   "metadata": {},
   "source": [
    "#### Vector Creation"
   ]
  },
  {
   "cell_type": "code",
   "execution_count": 12,
   "id": "e8346cc2-4b9b-42fc-9fb5-96f8670e315d",
   "metadata": {},
   "outputs": [
    {
     "name": "stdout",
     "output_type": "stream",
     "text": [
      "a = [0. 0. 0. 0.], a shape = (4,), a data type = float64\n",
      "a = [0. 0. 0. 0.], a shape = (4,), a data type = float64\n",
      "a = [0.51508946 0.09456134 0.42084001 0.46817327], a shape = (4,), a data type = float64\n"
     ]
    }
   ],
   "source": [
    "a = np.zeros(4)\n",
    "print(f\"a = {a}, a shape = {a.shape}, a data type = {a.dtype}\")\n",
    "a = np.zeros((4,))\n",
    "print(f\"a = {a}, a shape = {a.shape}, a data type = {a.dtype}\")\n",
    "a = np.random.random_sample(4)\n",
    "print(f\"a = {a}, a shape = {a.shape}, a data type = {a.dtype}\")"
   ]
  },
  {
   "cell_type": "code",
   "execution_count": 22,
   "id": "112be2df-850c-4618-939a-ffac271724c2",
   "metadata": {},
   "outputs": [
    {
     "name": "stdout",
     "output_type": "stream",
     "text": [
      "a = [0. 1. 2. 3.], a shape = (4,), a data type = float64\n",
      "a = [0 1 2 3], a shape = (4,), a data type = int32\n",
      "a = [0.40697683 0.46006905 0.2933848  0.65745839], a shape = (4,), a data type = float64\n",
      "a = [5 4 3 2 1], a shape = (5,), a data type = int32\n"
     ]
    }
   ],
   "source": [
    "a = np.arange(4.)\n",
    "print(f\"a = {a}, a shape = {a.shape}, a data type = {a.dtype}\")\n",
    "a = np.arange(4)\n",
    "print(f\"a = {a}, a shape = {a.shape}, a data type = {a.dtype}\")\n",
    "a = np.random.rand(4)\n",
    "print(f\"a = {a}, a shape = {a.shape}, a data type = {a.dtype}\")\n",
    "a = np.array([5,4,3,2,1])\n",
    "print(f\"a = {a}, a shape = {a.shape}, a data type = {a.dtype}\")"
   ]
  },
  {
   "cell_type": "markdown",
   "id": "59edc6ce-68df-48e4-a092-abd3f34d0ca2",
   "metadata": {},
   "source": [
    "### Slicing"
   ]
  },
  {
   "cell_type": "code",
   "execution_count": 43,
   "id": "fa0be9cc-f21d-4da9-88cd-bc0be49ef85f",
   "metadata": {},
   "outputs": [
    {
     "name": "stdout",
     "output_type": "stream",
     "text": [
      "a = [0 1 2 3 4 5 6 7 8 9]\n",
      "c = [2 3 4 5 6]\n",
      "d = [2 4 6]\n",
      "e = [3 4 5 6 7 8 9]\n",
      "f = [0 1 2]\n",
      "g = [0 1 2 3 4 5 6 7 8 9]\n"
     ]
    }
   ],
   "source": [
    "a = np.arange(10)\n",
    "print(f\"a = {a}\")\n",
    "c = a[2:7:1]\n",
    "print(f\"c = {c}\")\n",
    "d = a[2:7:2]\n",
    "print(f\"d = {d}\")\n",
    "e = a[3:] ; print(f\"e = {e}\")\n",
    "f = a[:3]; print(f\"f = {f}\")\n",
    "g = a[:]; print(f\"g = {g}\")"
   ]
  },
  {
   "cell_type": "markdown",
   "id": "f0eefc4f-1a84-40ce-b76f-458789d34dde",
   "metadata": {},
   "source": [
    "### Vector Operations"
   ]
  },
  {
   "cell_type": "code",
   "execution_count": 52,
   "id": "8636063b-3a58-426e-b95c-a6d67f7200de",
   "metadata": {},
   "outputs": [
    {
     "name": "stdout",
     "output_type": "stream",
     "text": [
      "b = [-1 -2 -3 -4 -5]\n",
      "sum = 15\n",
      "mean = 3.0\n",
      "square:[ 1  4  9 16 25]\n"
     ]
    }
   ],
   "source": [
    "a = np.array([1,2,3,4,5])\n",
    "b = -a\n",
    "print(f\"b = {b}\")\n",
    "c = np.sum(a)\n",
    "print(f\"sum = {c}\")\n",
    "d = np.mean(a)\n",
    "print(f\"mean = {d}\")\n",
    "e = a**2\n",
    "print(f\"square:{e}\")"
   ]
  },
  {
   "cell_type": "code",
   "execution_count": 56,
   "id": "6a69e9e2-e1ce-4835-9f98-50bb7cade5e3",
   "metadata": {},
   "outputs": [
    {
     "name": "stdout",
     "output_type": "stream",
     "text": [
      "the error message you will see is = operands could not be broadcast together with shapes (4,) (2,) \n"
     ]
    }
   ],
   "source": [
    "# Try a mismatched vector operations\n",
    "a = np.array([1,2,3,4])\n",
    "b = np.array([1,2])\n",
    "try:\n",
    "    c = a+b\n",
    "except Exception as e:\n",
    "    print(f\"the error message you will see is = {e}\")"
   ]
  },
  {
   "cell_type": "markdown",
   "id": "63bd63ad-a01d-40d2-b3f7-393f61700556",
   "metadata": {},
   "source": [
    "### vector vector dot product\n",
    "Implement a function which returns the dot product of two vectors. The function to return given inputs $a$ and $b$:\n",
    "$$ x = \\sum_{i=0}^{n-1} a_i b_i $$"
   ]
  },
  {
   "cell_type": "code",
   "execution_count": 60,
   "id": "e3ec6b27-b6a9-47e3-95f3-96472db04603",
   "metadata": {},
   "outputs": [],
   "source": [
    "def dotProduct(a,b):\n",
    "    x = 0 \n",
    "    for i in range(a.shape[0]):\n",
    "        x = x + a[i]*b[i]\n",
    "    return x"
   ]
  },
  {
   "cell_type": "code",
   "execution_count": 63,
   "id": "26fb6b17-9332-4529-83f9-3521fcf44d86",
   "metadata": {},
   "outputs": [
    {
     "name": "stdout",
     "output_type": "stream",
     "text": [
      "ans = 24\n"
     ]
    }
   ],
   "source": [
    "a = np.array([1,2,3,4])\n",
    "b = np.array([-1,4,3,2])\n",
    "print(f\"ans = {dotProduct(a,b)}\")"
   ]
  },
  {
   "cell_type": "markdown",
   "id": "a277b4d7-3757-4b8b-a121-fbddce5a30e0",
   "metadata": {},
   "source": [
    "### The need for speed: vector vs for loop\n",
    "This code compares the efficiency of vectorized dot product computation using NumPy's np.dot() function against a manual implementation using a loop (dotProduct())\n",
    "### Seed\n",
    "The np.random.seed(seed_value) function in NumPy initializes the random number generator (RNG) to produce consistent (reproducible) random numbers.\n",
    "\n",
    "### Why Use a Seed?\n",
    "Normally, np.random generates different random numbers every time your program runs. However, by setting a seed, you ensure that the same sequence of random numbers is generated every time, which is useful for:\n",
    "\n",
    "Reproducibility (e.g., debugging, scientific experiments, ML models).\n",
    "Testing (getting consistent results for validation)."
   ]
  },
  {
   "cell_type": "code",
   "execution_count": 67,
   "id": "a4a158ee-6d80-4fe9-a0c0-a564cfb4b715",
   "metadata": {},
   "outputs": [
    {
     "name": "stdout",
     "output_type": "stream",
     "text": [
      "np.dot(a, b) =  2501072.5817\n",
      "Vectorized version duration: 138.0010 ms \n",
      "my_dot(a, b) =  2501072.5817\n",
      "Loop version duration: 8689.9245 ms \n"
     ]
    }
   ],
   "source": [
    "import numpy as np\n",
    "import time\n",
    "\n",
    "# Define a manual dot product function\n",
    "def my_dot(a, b):\n",
    "    result = 0\n",
    "    for i in range(len(a)):\n",
    "        result += a[i] * b[i]\n",
    "    return result\n",
    "\n",
    "# Set random seed for reproducibility\n",
    "np.random.seed(1)\n",
    "\n",
    "# Generate large random arrays\n",
    "a = np.random.rand(10_000_000)\n",
    "b = np.random.rand(10_000_000)\n",
    "\n",
    "# Measure NumPy's dot product performance\n",
    "tic = time.time()\n",
    "c = np.dot(a, b)\n",
    "toc = time.time()\n",
    "print(f\"np.dot(a, b) =  {c:.4f}\")\n",
    "print(f\"Vectorized version duration: {1000*(toc-tic):.4f} ms \")\n",
    "\n",
    "# Measure loop-based dot product performance\n",
    "tic = time.time()\n",
    "c = my_dot(a, b)\n",
    "toc = time.time()\n",
    "print(f\"my_dot(a, b) =  {c:.4f}\")\n",
    "print(f\"Loop version duration: {1000*(toc-tic):.4f} ms \")\n",
    "\n",
    "# Free up memory\n",
    "del a, b"
   ]
  },
  {
   "cell_type": "markdown",
   "id": "4024c311-88fd-4c06-a5ab-0cee7263b07e",
   "metadata": {},
   "source": [
    "### Matrix Creation"
   ]
  },
  {
   "cell_type": "code",
   "execution_count": 77,
   "id": "597cbe3d-542b-400d-a3e1-532c1a333426",
   "metadata": {},
   "outputs": [
    {
     "name": "stdout",
     "output_type": "stream",
     "text": [
      "a shape = (1, 5), a = [[0. 0. 0. 0. 0.]]\n",
      "a = [[0.]\n",
      " [0.]], a shape = (2, 1)\n",
      "a shape = (1, 1), a = [[0.04997798]]\n"
     ]
    }
   ],
   "source": [
    "a = np.zeros((1, 5))                                       \n",
    "print(f\"a shape = {a.shape}, a = {a}\")                     \n",
    "\n",
    "a = np.zeros((2, 1))                                                                   \n",
    "print(f\"a = {a}, a shape = {a.shape}\") \n",
    "\n",
    "a = np.random.random_sample((1, 1))  \n",
    "print(f\"a shape = {a.shape}, a = {a}\") "
   ]
  },
  {
   "cell_type": "code",
   "execution_count": 79,
   "id": "59435722-08ba-4230-b491-24e012388606",
   "metadata": {},
   "outputs": [
    {
     "name": "stdout",
     "output_type": "stream",
     "text": [
      "a.shape: (3, 2), \n",
      "a= [[0 1]\n",
      " [2 3]\n",
      " [4 5]]\n",
      "\n",
      "a[2,0].shape:   (), a[2,0] = 4,     type(a[2,0]) = <class 'numpy.int32'> Accessing an element returns a scalar\n",
      "\n",
      "a[2].shape:   (2,), a[2]   = [4 5], type(a[2])   = <class 'numpy.ndarray'>\n"
     ]
    }
   ],
   "source": [
    "#vector indexing operations on matrices\n",
    "a = np.arange(6).reshape(-1, 2) \n",
    "print(f\"a.shape: {a.shape}, \\na= {a}\")\n",
    "\n",
    "#access an element\n",
    "print(f\"\\na[2,0].shape:   {a[2, 0].shape}, a[2,0] = {a[2, 0]},     type(a[2,0]) = {type(a[2, 0])} Accessing an element returns a scalar\\n\")\n",
    "\n",
    "#access a row\n",
    "print(f\"a[2].shape:   {a[2].shape}, a[2]   = {a[2]}, type(a[2])   = {type(a[2])}\")"
   ]
  },
  {
   "cell_type": "code",
   "execution_count": 81,
   "id": "b741c139-4ba9-4240-b8dc-d234f5cae075",
   "metadata": {},
   "outputs": [
    {
     "name": "stdout",
     "output_type": "stream",
     "text": [
      "a = \n",
      "[[ 0  1  2  3  4  5  6  7  8  9]\n",
      " [10 11 12 13 14 15 16 17 18 19]]\n",
      "a[0, 2:7:1] =  [2 3 4 5 6] ,  a[0, 2:7:1].shape = (5,) a 1-D array\n",
      "a[:, 2:7:1] = \n",
      " [[ 2  3  4  5  6]\n",
      " [12 13 14 15 16]] ,  a[:, 2:7:1].shape = (2, 5) a 2-D array\n",
      "a[:,:] = \n",
      " [[ 0  1  2  3  4  5  6  7  8  9]\n",
      " [10 11 12 13 14 15 16 17 18 19]] ,  a[:,:].shape = (2, 10)\n",
      "a[1,:] =  [10 11 12 13 14 15 16 17 18 19] ,  a[1,:].shape = (10,) a 1-D array\n",
      "a[1]   =  [10 11 12 13 14 15 16 17 18 19] ,  a[1].shape   = (10,) a 1-D array\n"
     ]
    }
   ],
   "source": [
    "#vector 2-D slicing operations\n",
    "a = np.arange(20).reshape(-1, 10)\n",
    "print(f\"a = \\n{a}\")\n",
    "\n",
    "#access 5 consecutive elements (start:stop:step)\n",
    "print(\"a[0, 2:7:1] = \", a[0, 2:7:1], \",  a[0, 2:7:1].shape =\", a[0, 2:7:1].shape, \"a 1-D array\")\n",
    "\n",
    "#access 5 consecutive elements in two rows\n",
    "print(\"a[:, 2:7:1] = \\n\", a[:, 2:7:1], \",  a[:, 2:7:1].shape =\", a[:, 2:7:1].shape, \"a 2-D array\")\n",
    "\n",
    "# access all elements\n",
    "print(\"a[:,:] = \\n\", a[:,:], \",  a[:,:].shape =\", a[:,:].shape)\n",
    "\n",
    "# access all elements in one row \n",
    "print(\"a[1,:] = \", a[1,:], \",  a[1,:].shape =\", a[1,:].shape, \"a 1-D array\")\n",
    "# same as\n",
    "print(\"a[1]   = \", a[1],   \",  a[1].shape   =\", a[1].shape, \"a 1-D array\")\n"
   ]
  }
 ],
 "metadata": {
  "kernelspec": {
   "display_name": "Python 3 (ipykernel)",
   "language": "python",
   "name": "python3"
  },
  "language_info": {
   "codemirror_mode": {
    "name": "ipython",
    "version": 3
   },
   "file_extension": ".py",
   "mimetype": "text/x-python",
   "name": "python",
   "nbconvert_exporter": "python",
   "pygments_lexer": "ipython3",
   "version": "3.12.4"
  }
 },
 "nbformat": 4,
 "nbformat_minor": 5
}
